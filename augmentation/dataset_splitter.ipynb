{
 "cells": [
  {
   "cell_type": "code",
   "execution_count": 8,
   "metadata": {},
   "outputs": [],
   "source": [
    "import sys\n",
    "sys.path.insert(1, \"/home/odyssey/mmk_smoke_detection/\")\n",
    "\n",
    "%matplotlib inline\n",
    "import albumentations as A\n",
    "from PIL import Image, ImageDraw\n",
    "import numpy as np\n",
    "import glob\n",
    "import os\n",
    "import random\n",
    "import matplotlib\n",
    "from matplotlib import pyplot as plt\n",
    "from IPython.display import display, clear_output, Image as IImage\n",
    "import cv2\n",
    "\n",
    "# matplotlib.use('TkAgg')\n",
    "\n",
    "from dataset_preparator.preparator import DatasetDirectoryController"
   ]
  },
  {
   "cell_type": "code",
   "execution_count": 9,
   "metadata": {
    "pycharm": {
     "name": "#%%\n"
    }
   },
   "outputs": [],
   "source": [
    "import random\n",
    "import os\n",
    "import shutil\n",
    "import tqdm\n",
    "\n",
    "from dataset_preparator.preparator import LABELS\n",
    "from dataset_preparator.preparator import BINARY_LABELS\n",
    "\n",
    "from typing import Callable, List\n",
    "\n",
    "class TrainTestSplitter:\n",
    "    _train_con: DatasetDirectoryController\n",
    "    _test_con: DatasetDirectoryController\n",
    "    _src_con: DatasetDirectoryController\n",
    "    _prob_border: float\n",
    "\n",
    "    #     _mapper: Callable\n",
    "    _prob_to_move: Callable\n",
    "\n",
    "    def __init__(\n",
    "            self,\n",
    "            src_dir: str,\n",
    "            dst_dir: str,\n",
    "            labels: List[str],\n",
    "            prob_to_move: Callable,\n",
    "            prob_border: float = 0.8,\n",
    "            mapper: Callable = lambda x: x,\n",
    "    ):\n",
    "        self._prob_to_move = prob_to_move\n",
    "        self._src_con = DatasetDirectoryController(src_dir)\n",
    "        self._src_con.prepare_directories()\n",
    "        train_dir = os.path.join(dst_dir, 'train')\n",
    "        test_dir = os.path.join(dst_dir, 'test')\n",
    "        if os.path.exists(train_dir):\n",
    "            shutil.rmtree(train_dir)\n",
    "        os.makedirs(train_dir)\n",
    "        self._train_con = DatasetDirectoryController(\n",
    "            train_dir,\n",
    "            labels=labels,\n",
    "            label_mapper=mapper\n",
    "        )\n",
    "        self._train_con.prepare_directories()\n",
    "\n",
    "        if os.path.exists(test_dir):\n",
    "            shutil.rmtree(test_dir)\n",
    "        os.makedirs(test_dir)\n",
    "        self._test_con = DatasetDirectoryController(\n",
    "            test_dir,\n",
    "            labels=labels,\n",
    "            label_mapper=mapper\n",
    "        )\n",
    "        self._test_con.prepare_directories()\n",
    "\n",
    "        self._prob_border = prob_border\n",
    "\n",
    "    #     def prob_to_move(\n",
    "    #         self,\n",
    "    #         label_idx: int\n",
    "    #     ) -> float:\n",
    "    #         if self._is_binary:\n",
    "    #             return 1 / (len(self._src_con.labels) - 1) if label_idx != 1 else 1.0\n",
    "    #         return 1\n",
    "\n",
    "    def _split_label_dir(\n",
    "            self,\n",
    "            label_idx: int\n",
    "    ):\n",
    "        src_label_dir = self._src_con.get_directory_for_label_idx(label_idx)\n",
    "        imgs = glob.glob(os.path.join(src_label_dir, '*'))\n",
    "        for img in tqdm.tqdm(imgs):\n",
    "            dir_con = self._train_con if random.random() <= self._prob_border else self._test_con\n",
    "            dst_label_dir = dir_con.get_directory_for_label_idx(label_idx)\n",
    "            if random.random() <= self._prob_to_move(label_idx=label_idx):\n",
    "                shutil.copy2(img, dst_label_dir)\n",
    "\n",
    "    def split(self):\n",
    "        for label_idx in range(len(self._src_con.labels)):\n",
    "            self._split_label_dir(label_idx=label_idx)\n",
    "            print('train:', LABELS[label_idx], self._train_con.stats)\n",
    "            print('test:', LABELS[label_idx], self._test_con.stats)"
   ]
  },
  {
   "cell_type": "code",
   "execution_count": 12,
   "metadata": {},
   "outputs": [
    {
     "name": "stdout",
     "output_type": "stream",
     "text": [
      "('background', 'emission', 'fire', 'machine')\n",
      "['background', 'emission', 'fire']\n",
      "['background', 'emission', 'fire']\n"
     ]
    },
    {
     "name": "stderr",
     "output_type": "stream",
     "text": [
      "100%|██████████| 6170/6170 [00:00<00:00, 17653.57it/s]\n"
     ]
    },
    {
     "name": "stdout",
     "output_type": "stream",
     "text": [
      "train: background {'background': 5881, 'emission': 0, 'fire': 0}\n",
      "test: background {'background': 289, 'emission': 0, 'fire': 0}\n"
     ]
    },
    {
     "name": "stderr",
     "output_type": "stream",
     "text": [
      "100%|██████████| 5509/5509 [00:00<00:00, 16325.51it/s]\n"
     ]
    },
    {
     "name": "stdout",
     "output_type": "stream",
     "text": [
      "train: emission {'background': 5881, 'emission': 5218, 'fire': 0}\n",
      "test: emission {'background': 289, 'emission': 291, 'fire': 0}\n"
     ]
    },
    {
     "name": "stderr",
     "output_type": "stream",
     "text": [
      "100%|██████████| 13816/13816 [00:00<00:00, 17324.16it/s]\n"
     ]
    },
    {
     "name": "stdout",
     "output_type": "stream",
     "text": [
      "train: fire {'background': 5881, 'emission': 5218, 'fire': 13139}\n",
      "test: fire {'background': 289, 'emission': 291, 'fire': 677}\n"
     ]
    },
    {
     "name": "stderr",
     "output_type": "stream",
     "text": [
      "0it [00:00, ?it/s]"
     ]
    },
    {
     "name": "stdout",
     "output_type": "stream",
     "text": [
      "train: machine {'background': 5881, 'emission': 5218, 'fire': 13139}\n",
      "test: machine {'background': 289, 'emission': 291, 'fire': 677}\n"
     ]
    },
    {
     "name": "stderr",
     "output_type": "stream",
     "text": [
      "\n"
     ]
    }
   ],
   "source": [
    "PATH_TO_RESULT_DATASET = 'splitted_line_fire_dataset'\n",
    "\n",
    "splitter = TrainTestSplitter(\n",
    "    src_dir='line_fire_binary_dataset/',\n",
    "    dst_dir=PATH_TO_RESULT_DATASET,\n",
    "    labels=[LABELS[0], LABELS[1], LABELS[2]],\n",
    "#     mapper=lambda label_idx: label_idx % 3,\n",
    "    prob_to_move=lambda label_idx: 1,\n",
    "    prob_border=0.95\n",
    ")\n",
    "splitter.split()"
   ]
  },
  {
   "cell_type": "code",
   "execution_count": 6,
   "metadata": {},
   "outputs": [
    {
     "name": "stdout",
     "output_type": "stream",
     "text": [
      "('background', 'emission', 'fire', 'machine')\n",
      "('background', 'emission', 'fire')\n",
      "('background', 'emission', 'fire')\n"
     ]
    },
    {
     "name": "stderr",
     "output_type": "stream",
     "text": [
      "100%|██████████| 6170/6170 [00:00<00:00, 18965.66it/s]\n"
     ]
    },
    {
     "name": "stdout",
     "output_type": "stream",
     "text": [
      "train: background {'background': 5851, 'emission': 0, 'fire': 0}\n",
      "test: background {'background': 319, 'emission': 0, 'fire': 0}\n"
     ]
    },
    {
     "name": "stderr",
     "output_type": "stream",
     "text": [
      "100%|██████████| 5509/5509 [00:00<00:00, 19214.33it/s]\n"
     ]
    },
    {
     "name": "stdout",
     "output_type": "stream",
     "text": [
      "train: emission {'background': 5851, 'emission': 5240, 'fire': 0}\n",
      "test: emission {'background': 319, 'emission': 269, 'fire': 0}\n"
     ]
    },
    {
     "name": "stderr",
     "output_type": "stream",
     "text": [
      "100%|██████████| 5956/5956 [00:00<00:00, 19419.09it/s]\n"
     ]
    },
    {
     "name": "stdout",
     "output_type": "stream",
     "text": [
      "train: fire {'background': 5851, 'emission': 5240, 'fire': 5663}\n",
      "test: fire {'background': 319, 'emission': 269, 'fire': 293}\n"
     ]
    },
    {
     "name": "stderr",
     "output_type": "stream",
     "text": [
      "0it [00:00, ?it/s]"
     ]
    },
    {
     "name": "stdout",
     "output_type": "stream",
     "text": [
      "train: machine {'background': 5851, 'emission': 5240, 'fire': 5663}\n",
      "test: machine {'background': 319, 'emission': 269, 'fire': 293}\n"
     ]
    },
    {
     "name": "stderr",
     "output_type": "stream",
     "text": [
      "\n"
     ]
    }
   ],
   "source": [
    "PATH_TO_RESULT_DATASET = 'splitted_line_three_dataset'\n",
    "\n",
    "splitter = TrainTestSplitter(\n",
    "    src_dir='line_three_dataset_2/',\n",
    "    dst_dir=PATH_TO_RESULT_DATASET,\n",
    "    labels=LABELS[:3],\n",
    "#     mapper=lambda label_idx: label_idx % 3,\n",
    "    prob_to_move=lambda label_idx: 1,\n",
    "    prob_border=0.95\n",
    ")\n",
    "splitter.split()"
   ]
  },
  {
   "cell_type": "code",
   "execution_count": 4,
   "metadata": {},
   "outputs": [
    {
     "name": "stdout",
     "output_type": "stream",
     "text": [
      "('background', 'emission', 'fire', 'machine')\n",
      "('background', 'emission')\n",
      "('background', 'emission')\n"
     ]
    },
    {
     "name": "stderr",
     "output_type": "stream",
     "text": [
      "100%|██████████| 10717/10717 [00:00<00:00, 19520.95it/s]\n"
     ]
    },
    {
     "name": "stdout",
     "output_type": "stream",
     "text": [
      "train: background {'background': 10163, 'emission': 0}\n",
      "test: background {'background': 554, 'emission': 0}\n"
     ]
    },
    {
     "name": "stderr",
     "output_type": "stream",
     "text": [
      "100%|██████████| 5509/5509 [00:00<00:00, 18920.60it/s]\n"
     ]
    },
    {
     "name": "stdout",
     "output_type": "stream",
     "text": [
      "train: emission {'background': 10163, 'emission': 5248}\n",
      "test: emission {'background': 554, 'emission': 261}\n"
     ]
    },
    {
     "name": "stderr",
     "output_type": "stream",
     "text": [
      "0it [00:00, ?it/s]\n"
     ]
    },
    {
     "name": "stdout",
     "output_type": "stream",
     "text": [
      "train: fire {'background': 10163, 'emission': 5248}\n",
      "test: fire {'background': 554, 'emission': 261}\n"
     ]
    },
    {
     "name": "stderr",
     "output_type": "stream",
     "text": [
      "0it [00:00, ?it/s]"
     ]
    },
    {
     "name": "stdout",
     "output_type": "stream",
     "text": [
      "train: machine {'background': 10163, 'emission': 5248}\n",
      "test: machine {'background': 554, 'emission': 261}\n"
     ]
    },
    {
     "name": "stderr",
     "output_type": "stream",
     "text": [
      "\n"
     ]
    }
   ],
   "source": [
    "PATH_TO_RESULT_DATASET = 'splitted_line_binary_dataset_2/'\n",
    "\n",
    "splitter = TrainTestSplitter(\n",
    "    src_dir='line_binary_dataset_2/',\n",
    "    dst_dir=PATH_TO_RESULT_DATASET,\n",
    "    labels=LABELS[:2],\n",
    "#     mapper=lambda label_idx: label_idx % 3,\n",
    "    prob_to_move=lambda label_idx: 1,\n",
    "    prob_border=0.95\n",
    ")\n",
    "splitter.split()"
   ]
  },
  {
   "cell_type": "code",
   "execution_count": 33,
   "metadata": {},
   "outputs": [
    {
     "name": "stderr",
     "output_type": "stream",
     "text": [
      "100%|██████████| 11225/11225 [00:00<00:00, 19722.91it/s]\n"
     ]
    },
    {
     "name": "stdout",
     "output_type": "stream",
     "text": [
      "train: background {'background': 10661, 'emission': 0}\n",
      "test: background {'background': 564, 'emission': 0}\n"
     ]
    },
    {
     "name": "stderr",
     "output_type": "stream",
     "text": [
      "100%|██████████| 4510/4510 [00:00<00:00, 19201.74it/s]\n"
     ]
    },
    {
     "name": "stdout",
     "output_type": "stream",
     "text": [
      "train: emission {'background': 10661, 'emission': 4288}\n",
      "test: emission {'background': 564, 'emission': 222}\n"
     ]
    },
    {
     "name": "stderr",
     "output_type": "stream",
     "text": [
      "0it [00:00, ?it/s]\n"
     ]
    },
    {
     "name": "stdout",
     "output_type": "stream",
     "text": [
      "train: fire {'background': 10661, 'emission': 4288}\n",
      "test: fire {'background': 564, 'emission': 222}\n"
     ]
    },
    {
     "name": "stderr",
     "output_type": "stream",
     "text": [
      "0it [00:00, ?it/s]\n"
     ]
    },
    {
     "name": "stdout",
     "output_type": "stream",
     "text": [
      "train: machine {'background': 10661, 'emission': 4288}\n",
      "test: machine {'background': 564, 'emission': 222}\n"
     ]
    }
   ],
   "source": [
    "PATH_TO_RESULT_DATASET = 'splitted_line_binary_dataset/'\n",
    "\n",
    "splitter = TrainTestSplitter(\n",
    "    src_dir='line_binary_dataset/',\n",
    "    dst_dir=PATH_TO_RESULT_DATASET,\n",
    "    labels=LABELS[:2],\n",
    "#     mapper=lambda label_idx: label_idx % 3,\n",
    "    prob_to_move=lambda label_idx: 1,\n",
    "    prob_border=0.95\n",
    ")\n",
    "splitter.split()"
   ]
  },
  {
   "cell_type": "code",
   "execution_count": 31,
   "metadata": {},
   "outputs": [
    {
     "name": "stderr",
     "output_type": "stream",
     "text": [
      "100%|██████████| 6172/6172 [00:01<00:00, 5235.55it/s]\n"
     ]
    },
    {
     "name": "stdout",
     "output_type": "stream",
     "text": [
      "train: background {'background': 5529, 'emission': 0, 'fire': 0}\n",
      "test: background {'background': 643, 'emission': 0, 'fire': 0}\n"
     ]
    },
    {
     "name": "stderr",
     "output_type": "stream",
     "text": [
      "100%|██████████| 4510/4510 [00:00<00:00, 4919.88it/s]\n"
     ]
    },
    {
     "name": "stdout",
     "output_type": "stream",
     "text": [
      "train: emission {'background': 5529, 'emission': 4084, 'fire': 0}\n",
      "test: emission {'background': 643, 'emission': 426, 'fire': 0}\n"
     ]
    },
    {
     "name": "stderr",
     "output_type": "stream",
     "text": [
      "100%|██████████| 5074/5074 [00:00<00:00, 5144.69it/s]\n"
     ]
    },
    {
     "name": "stdout",
     "output_type": "stream",
     "text": [
      "train: fire {'background': 5529, 'emission': 4084, 'fire': 4584}\n",
      "test: fire {'background': 643, 'emission': 426, 'fire': 490}\n"
     ]
    },
    {
     "name": "stderr",
     "output_type": "stream",
     "text": [
      "0it [00:00, ?it/s]"
     ]
    },
    {
     "name": "stdout",
     "output_type": "stream",
     "text": [
      "train: machine {'background': 5529, 'emission': 4084, 'fire': 4584}\n",
      "test: machine {'background': 643, 'emission': 426, 'fire': 490}\n"
     ]
    },
    {
     "name": "stderr",
     "output_type": "stream",
     "text": [
      "\n"
     ]
    }
   ],
   "source": [
    "PATH_TO_RESULT_DATASET = 'splitted_line_dataset/'\n",
    "\n",
    "\n",
    "def prob_to_move(label_idx: int) -> float:\n",
    "    if label_idx == 3:\n",
    "        return 0.1\n",
    "#     if label_idx == 2:\n",
    "#         return 1/3\n",
    "    return 1\n",
    "\n",
    "splitter = TrainTestSplitter(\n",
    "    src_dir='line_dataset/',\n",
    "    dst_dir=PATH_TO_RESULT_DATASET,\n",
    "    labels=LABELS[:-1],\n",
    "#     mapper=lambda label_idx: label_idx % 3,\n",
    "    prob_to_move=lambda label_idx: 1,\n",
    "    prob_border=0.90\n",
    ")\n",
    "splitter.split()"
   ]
  },
  {
   "cell_type": "code",
   "execution_count": 29,
   "metadata": {},
   "outputs": [
    {
     "name": "stderr",
     "output_type": "stream",
     "text": [
      "100%|██████████| 24688/24688 [00:01<00:00, 19027.70it/s]\n"
     ]
    },
    {
     "name": "stdout",
     "output_type": "stream",
     "text": [
      "train: background {'background': 22303, 'emission': 0, 'fire': 0}\n",
      "test: background {'background': 2385, 'emission': 0, 'fire': 0}\n"
     ]
    },
    {
     "name": "stderr",
     "output_type": "stream",
     "text": [
      "100%|██████████| 27060/27060 [00:01<00:00, 18917.61it/s]\n"
     ]
    },
    {
     "name": "stdout",
     "output_type": "stream",
     "text": [
      "train: emission {'background': 22303, 'emission': 24394, 'fire': 0}\n",
      "test: emission {'background': 2385, 'emission': 2666, 'fire': 0}\n"
     ]
    },
    {
     "name": "stderr",
     "output_type": "stream",
     "text": [
      "100%|██████████| 25370/25370 [00:01<00:00, 18463.24it/s]\n"
     ]
    },
    {
     "name": "stdout",
     "output_type": "stream",
     "text": [
      "train: fire {'background': 22303, 'emission': 24394, 'fire': 22753}\n",
      "test: fire {'background': 2385, 'emission': 2666, 'fire': 2617}\n"
     ]
    },
    {
     "name": "stderr",
     "output_type": "stream",
     "text": [
      "0it [00:00, ?it/s]\n"
     ]
    },
    {
     "name": "stdout",
     "output_type": "stream",
     "text": [
      "train: machine {'background': 22303, 'emission': 24394, 'fire': 22753}\n",
      "test: machine {'background': 2385, 'emission': 2666, 'fire': 2617}\n"
     ]
    }
   ],
   "source": [
    "PATH_TO_RESULT_DATASET = 'splitted_line_small_aug_dataset/'\n",
    "\n",
    "\n",
    "def prob_to_move(label_idx: int) -> float:\n",
    "    if label_idx == 3:\n",
    "        return 0.1\n",
    "#     if label_idx == 2:\n",
    "#         return 1/3\n",
    "    return 1\n",
    "\n",
    "splitter = TrainTestSplitter(\n",
    "    src_dir='line_small_aug_dataset/',\n",
    "    dst_dir=PATH_TO_RESULT_DATASET,\n",
    "    labels=LABELS[:-1],\n",
    "#     mapper=lambda label_idx: label_idx % 3,\n",
    "    prob_to_move=lambda label_idx: 1,\n",
    "    prob_border=0.90\n",
    ")\n",
    "splitter.split()"
   ]
  },
  {
   "cell_type": "code",
   "execution_count": null,
   "metadata": {
    "pycharm": {
     "name": "#%%\n"
    }
   },
   "outputs": [],
   "source": [
    "PATH_TO_RESULT_DATASET = 'merged_ready_dataset_copy'\n",
    "\n",
    "\n",
    "def prob_to_move(label_idx: int) -> float:\n",
    "    if label_idx == 3:\n",
    "        return 0.1\n",
    "    if label_idx == 2:\n",
    "        return 1/3\n",
    "    return 1\n",
    "\n",
    "splitter = TrainTestSplitter(\n",
    "    src_dir=PATH_TO_RESULT_DATASET,\n",
    "    dst_dir=f'three_{PATH_TO_RESULT_DATASET}',\n",
    "    labels=LABELS[:-1],\n",
    "    mapper=lambda label_idx: label_idx % 3,\n",
    "    prob_to_move=prob_to_move,\n",
    "    prob_border=0.95\n",
    ")\n",
    "splitter.split()"
   ]
  },
  {
   "cell_type": "code",
   "execution_count": null,
   "metadata": {
    "pycharm": {
     "name": "#%%\n"
    }
   },
   "outputs": [],
   "source": [
    "PATH_TO_RESULT_DATASET = 'small_aug_dataset_2'\n",
    "\n",
    "def prob_to_move(label_idx: int) -> float:\n",
    "    if label_idx == 0:\n",
    "        return 1/3\n",
    "    return 1\n",
    "\n",
    "def mapper(label_idx: int) -> int:\n",
    "    if label_idx != 1:\n",
    "        return 0\n",
    "    return 1\n",
    "\n",
    "splitter = TrainTestSplitter(\n",
    "    src_dir=PATH_TO_RESULT_DATASET,\n",
    "    dst_dir=f'binary_splitted_{PATH_TO_RESULT_DATASET}_2',\n",
    "    labels=LABELS[:2],\n",
    "    mapper=mapper,\n",
    "    prob_to_move=prob_to_move,\n",
    "    prob_border=0.95\n",
    ")\n",
    "splitter.split()"
   ]
  },
  {
   "cell_type": "code",
   "execution_count": null,
   "metadata": {
    "pycharm": {
     "name": "#%%\n"
    }
   },
   "outputs": [],
   "source": [
    "PATH_TO_RESULT_DATASET = 'small_aug_dataset_2'\n",
    "\n",
    "def prob_to_move(label_idx: int) -> float:\n",
    "    if label_idx == 3:\n",
    "        return 0.1\n",
    "    return 1\n",
    "\n",
    "splitter = TrainTestSplitter(\n",
    "    src_dir=PATH_TO_RESULT_DATASET,\n",
    "    dst_dir=f'merged_{PATH_TO_RESULT_DATASET}',\n",
    "    labels=LABELS[:-1],\n",
    "    mapper=lambda label_idx: label_idx % 3,\n",
    "    prob_to_move=prob_to_move,\n",
    "    prob_border=0.95\n",
    ")\n",
    "splitter.split()"
   ]
  },
  {
   "cell_type": "code",
   "execution_count": null,
   "metadata": {
    "pycharm": {
     "name": "#%%\n"
    }
   },
   "outputs": [],
   "source": [
    "PATH_TO_RESULT_DATASET = 'small_aug_dataset'\n",
    "# PATH_TO_RESULT_MEDIUM_DATASET = 'medium_aug_dataset'\n",
    "\n",
    "# def map_label_idx(label_idx: int):\n",
    "#     return label_idx % 3\n",
    "def prob_to_move(label_idx: int) -> float:\n",
    "    if label_idx == 0 or label_idx == 3:\n",
    "        return 1/2\n",
    "    return 1\n",
    "\n",
    "splitter = TrainTestSplitter(\n",
    "    src_dir=PATH_TO_RESULT_DATASET,\n",
    "    dst_dir=f'three_{PATH_TO_RESULT_DATASET}',\n",
    "    labels=LABELS[:-1],\n",
    "    mapper=lambda label_idx: label_idx % 3,\n",
    "    prob_to_move=prob_to_move\n",
    ")\n",
    "splitter.split()"
   ]
  },
  {
   "cell_type": "code",
   "execution_count": 8,
   "metadata": {},
   "outputs": [
    {
     "name": "stderr",
     "output_type": "stream",
     "text": [
      "100%|██████████| 160/160 [00:00<00:00, 16616.04it/s]\n"
     ]
    },
    {
     "name": "stdout",
     "output_type": "stream",
     "text": [
      "train: background {'background': 160, 'emission': 0, 'fire': 0}\n",
      "test: background {'background': 0, 'emission': 0, 'fire': 0}\n"
     ]
    },
    {
     "name": "stderr",
     "output_type": "stream",
     "text": [
      "100%|██████████| 178/178 [00:00<00:00, 18094.67it/s]\n"
     ]
    },
    {
     "name": "stdout",
     "output_type": "stream",
     "text": [
      "train: emission {'background': 160, 'emission': 178, 'fire': 0}\n",
      "test: emission {'background': 0, 'emission': 0, 'fire': 0}\n"
     ]
    },
    {
     "name": "stderr",
     "output_type": "stream",
     "text": [
      "100%|██████████| 290/290 [00:00<00:00, 18847.59it/s]\n"
     ]
    },
    {
     "name": "stdout",
     "output_type": "stream",
     "text": [
      "train: fire {'background': 160, 'emission': 178, 'fire': 290}\n",
      "test: fire {'background': 0, 'emission': 0, 'fire': 0}\n"
     ]
    },
    {
     "name": "stderr",
     "output_type": "stream",
     "text": [
      "100%|██████████| 27/27 [00:00<00:00, 11244.78it/s]"
     ]
    },
    {
     "name": "stdout",
     "output_type": "stream",
     "text": [
      "train: machine {'background': 187, 'emission': 178, 'fire': 290}\n",
      "test: machine {'background': 0, 'emission': 0, 'fire': 0}\n"
     ]
    },
    {
     "name": "stderr",
     "output_type": "stream",
     "text": [
      "\n"
     ]
    }
   ],
   "source": [
    "PATH_TO_RESULT_DATASET = \"/home/odyssey/mmk_smoke_detection/augmentation/line_val/\"\n",
    "\n",
    "\n",
    "def prob_to_move(label_idx: int) -> float:\n",
    "    return 1\n",
    "\n",
    "\n",
    "splitter = TrainTestSplitter(\n",
    "    src_dir=PATH_TO_RESULT_DATASET,\n",
    "    dst_dir='line_val',\n",
    "    prob_border=1.1,\n",
    "    labels=LABELS[:-1],\n",
    "    mapper=lambda label_idx: label_idx % 3,\n",
    "    prob_to_move=prob_to_move\n",
    ")\n",
    "splitter.split()"
   ]
  },
  {
   "cell_type": "code",
   "execution_count": 9,
   "metadata": {},
   "outputs": [],
   "source": [
    "! rm -r line_val/emission/ line_val/fire/ line_val/background/ line_val/machine/ "
   ]
  },
  {
   "cell_type": "code",
   "execution_count": 11,
   "metadata": {},
   "outputs": [],
   "source": [
    "! mv line_val/train/* line_val/"
   ]
  },
  {
   "cell_type": "code",
   "execution_count": 15,
   "metadata": {},
   "outputs": [],
   "source": [
    "! rm -r line_val/train/"
   ]
  },
  {
   "cell_type": "code",
   "execution_count": 19,
   "metadata": {},
   "outputs": [
    {
     "name": "stdout",
     "output_type": "stream",
     "text": [
      "00e2c5b0-cd71-4ca8-b86d-227826ff866e_0_0.jpg\r\n",
      "0155e9ae-be15-4739-bbbb-fafb4da83439_0_0.jpg\r\n",
      "01911661-adca-4bba-8f72-f693e3100c9d_0_0.jpg\r\n",
      "01ab4e83-0e3c-40d9-9c45-ea36d62611ce_0_0.jpg\r\n",
      "04cf2d9c-4f64-4f79-bd5c-f93453c4d9bd_0_0.jpg\r\n",
      "05560b9c-489f-42fd-aff3-8053058eb136_0_0.jpg\r\n",
      "061fe915-9002-4ce0-a3a5-b395873d55b4_0_0.jpg\r\n",
      "08c3f8f3-e695-44f5-a652-03216bd4d7a7_0_0.jpg\r\n",
      "0c1a057f-b70d-427c-9b8b-a92356c57b07_0_0.jpg\r\n",
      "0c8ae284-063c-454c-98ae-862c3a1eb970_0_0.jpg\r\n",
      "0cb39f5a-a69e-4a89-a1f6-1fdea936f490_0_0.jpg\r\n",
      "0d07bba1-13b6-4202-9c0c-a3c42e41ef50_0_0.jpg\r\n",
      "0d4bddf8-f862-4ab6-be6d-589d76d2fc3b_0_0.jpg\r\n",
      "0dbfed79-0901-4195-9001-429a48838538_0_0.jpg\r\n",
      "0eb8ac6a-884f-49a5-86ea-27f74207f515_0_0.jpg\r\n",
      "0ebbbd13-758a-4a5f-aa51-3dddd3495d68_0_0.jpg\r\n",
      "0f868684-5934-4ce7-851b-4cfc2cb35869_0_0.jpg\r\n",
      "101b51b1-94c9-451f-9f7f-15cfd97cac03_0_0.jpg\r\n",
      "10c7b88d-30ef-4db7-a53a-67867c7f83b2_0_0.jpg\r\n",
      "10f5b3f7-2044-4436-b53d-9c63f3316977_0_0.jpg\r\n",
      "1150dafa-4114-4381-bcb4-76e3aed06954_0_0.jpg\r\n",
      "12b5609d-0748-4906-a998-0b23a6a55bcf_0_0.jpg\r\n",
      "13e9199f-d021-4b25-87b1-d0b047f88270_0_0.jpg\r\n",
      "1429c997-33eb-4fbc-8bf8-3635072925d9_0_0.jpg\r\n",
      "1438a374-55aa-44b1-8a95-c33f7dc1ec1d_0_0.jpg\r\n",
      "1586e3bf-f1f3-4d26-b3d0-9b77344e6886_0_0.jpg\r\n",
      "1be1533e-eef5-4207-a532-d17f1f6ef166_0_0.jpg\r\n",
      "1be56c90-6574-43f1-aa15-d6a77e4a6ea0_0_0.jpg\r\n",
      "1c71673b-f6ff-4289-9f9c-9c2cb511bc3a_0_0.jpg\r\n",
      "1ccd205e-1ccf-484d-9650-9be03e281081_0_0.jpg\r\n",
      "1d7ed1dc-114a-4ac6-8e43-551720f3c643_0_0.jpg\r\n",
      "1e21d493-074c-4faf-bc89-3d76ba179018_0_0.jpg\r\n",
      "1e924699-1524-4c53-ae42-f1c40904104d_0_0.jpg\r\n",
      "1efa8a4d-e743-4d57-a911-66da9781200b_0_0.jpg\r\n",
      "1f092a8a-38a8-45e1-bdbe-dae0e32cd7bf_0_0.jpg\r\n",
      "1ff924b0-e92f-48e2-9fe6-b9b4338115eb_0_0.jpg\r\n",
      "20d75843-7ce9-42ad-91fb-49665dfc126d_0_0.jpg\r\n",
      "21397e48-67d3-4b4f-b062-15b421867131_0_0.jpg\r\n",
      "22ca4498-393a-4541-99b3-fe6d01abfc95_0_0.jpg\r\n",
      "23c2c264-b7a4-442a-8dab-0c0d69f8cc63_0_0.jpg\r\n",
      "244b7f85-60f8-4e2b-9fbb-0ddee41a8286_0_0.jpg\r\n",
      "2547b863-5e6c-4508-8e19-250551d395e2_0_0.jpg\r\n",
      "26eeff05-c557-4956-be06-2b42466d29c8_0_0.jpg\r\n",
      "273d30f0-1d12-4df2-b3e8-b8b67193a8e1_0_0.jpg\r\n",
      "2743e256-0f6e-4b58-ad9c-e54002291c5b_0_0.jpg\r\n",
      "299cd092-74e2-4460-a611-dbf008d76382_0_0.jpg\r\n",
      "2a00bd44-0389-42ca-8be7-49fbc9276c77_0_0.jpg\r\n",
      "2b575f3e-0e2f-4fe7-a7f1-e699432bb5d0_0_0.jpg\r\n",
      "2b75a02e-d456-4d94-b7f4-eac6ec7a0b6d_0_0.jpg\r\n",
      "2b8a8481-1d0d-4770-9dd7-86c9f4226390_0_0.jpg\r\n",
      "2ba905f4-4b81-402b-8d40-43a4f58bf3d7_0_0.jpg\r\n",
      "2be50332-5f60-4ef5-82d9-1de8d0652f65_0_0.jpg\r\n",
      "2eea2c3e-4371-4168-aeab-fa7fc5630608_0_0.jpg\r\n",
      "2fd72fa6-7bf5-4a42-ba87-9802333e71cd_0_0.jpg\r\n",
      "304abb83-5b26-4295-a88d-73d6d6403e13_0_0.jpg\r\n",
      "308f381f-762d-4982-93c8-3e67da68bcc6_0_0.jpg\r\n",
      "31798640-f4e1-44c5-94e6-1f6a29995c8d_0_0.jpg\r\n",
      "3336d263-ea81-465f-80b4-580bfce8c6ac_0_0.jpg\r\n",
      "35a77b9f-2dd6-454c-9ba9-9b7d5a34b314_0_0.jpg\r\n",
      "3648df92-e8e7-4504-9b16-43b331201e32_0_0.jpg\r\n",
      "37505f62-5720-4c10-b4ba-418c6384329e_0_0.jpg\r\n",
      "38115a1f-2274-4e8b-bc23-48a0e1310bf3_0_0.jpg\r\n",
      "3ad70019-5073-461c-8850-f615bc127f52_0_0.jpg\r\n",
      "3c70cb74-8cb2-4676-8be5-a580c602d838_0_0.jpg\r\n",
      "3d9022bd-565e-495f-814a-addb2915016a_0_0.jpg\r\n",
      "3e0944bf-c190-4d31-8b0d-cf725670dda3_0_0.jpg\r\n",
      "3e6ef26d-458a-4824-8b28-0678365eda17_0_0.jpg\r\n",
      "3f54171b-f6c2-4576-a16e-a7a025883328_0_0.jpg\r\n",
      "408f0dc4-3fdf-4db4-98ce-cfb8cc1383ed_0_0.jpg\r\n",
      "41ad935f-0ab7-4f28-93f1-759e92ada4f3_0_0.jpg\r\n",
      "4217abc0-5b2c-492b-a006-b818bc332011_0_0.jpg\r\n",
      "4331db49-1c56-4853-851b-12e15f93f804_0_0.jpg\r\n",
      "4423860e-7131-4f05-9f9f-c698c825378c_0_0.jpg\r\n",
      "455a8f0f-9cf9-47c8-95a4-0ee45c7d4a34_0_0.jpg\r\n",
      "45981252-2ad6-4cc2-ab51-3e018884b7ef_0_0.jpg\r\n",
      "474f920e-8679-4984-bff3-3427c26f5130_0_0.jpg\r\n",
      "476bf89f-56fe-4929-8190-818f86b3b78a_0_0.jpg\r\n",
      "4776af1b-cf76-4d28-8efc-d0d2c54614b4_0_0.jpg\r\n",
      "480554e6-1e2b-4b64-8705-756490703147_0_0.jpg\r\n",
      "48118edd-471f-488d-a89c-27a11118ce4a_0_0.jpg\r\n",
      "492286a5-ae32-4cf0-b3cf-b2c375827aef_0_0.jpg\r\n",
      "4981fdac-6d41-4600-8c4a-ca06b19e78b7_0_0.jpg\r\n",
      "49da6fba-043e-45aa-995b-c0c3cba88ee4_0_0.jpg\r\n",
      "4ab28b65-d96a-4364-99c0-826d6ef8c0d5_0_0.jpg\r\n",
      "4b28c588-9a1e-41e2-91b9-63066fc744a5_0_0.jpg\r\n",
      "4c11677b-ea9e-4300-a6e1-80096a0d0040_0_0.jpg\r\n",
      "4c884aa5-792f-4cd8-a9bf-109ef0d8403f_0_0.jpg\r\n",
      "4d4380b3-be5e-4380-a410-ed802afb90f2_0_0.jpg\r\n",
      "4ddbe82f-2a09-4074-b93c-2f11c4c24c8c_0_0.jpg\r\n",
      "4ddeebf8-f3c6-4f4e-91a9-1a7357b390f1_0_0.jpg\r\n",
      "4e23408d-ad20-4073-8922-ad250e6121d6_0_0.jpg\r\n",
      "4efb4b9c-b350-4a0c-945e-e6d7603cba12_0_0.jpg\r\n",
      "4fb43ad2-955c-4a49-8703-95aaf708b5f6_0_0.jpg\r\n",
      "4fde996b-5a7a-4453-ac6e-35ea90d6ce85_0_0.jpg\r\n",
      "51f9d37c-b122-40b7-b034-b2a7f64b536b_0_0.jpg\r\n",
      "5319783d-764a-475f-979a-cea2ddb1da38_0_0.jpg\r\n",
      "538a9db0-c6a6-49b7-af41-2c6c8eb3d38c_0_0.jpg\r\n",
      "556e131f-3608-4b52-9bd5-c9867e1f1b5e_0_0.jpg\r\n",
      "568ae33d-19b1-4e93-ac2a-a30d28b29f43_0_0.jpg\r\n",
      "57687aba-13b5-4cf8-ba7e-ec5ef197115a_0_0.jpg\r\n",
      "58bd46bc-3e6f-45d5-a7a9-28203dad0653_0_0.jpg\r\n",
      "598c5ae7-84c4-4999-898c-baed9b922e00_0_0.jpg\r\n",
      "5a9cec98-0612-43f8-818f-9f2050b31f11_0_0.jpg\r\n",
      "5c55f7aa-443b-4a70-96a0-f73bf4b3b38f_0_0.jpg\r\n",
      "5c8f76de-e7bf-45a1-9161-6d0b5881972b_0_0.jpg\r\n",
      "5c90f892-ad10-4b02-94d4-9a8c2923b57b_0_0.jpg\r\n",
      "5cd248e0-b13e-48ab-aa18-94ef58f240c9_0_0.jpg\r\n",
      "5d4d00f1-48a3-4e27-b6e5-802fcd6b07d3_0_0.jpg\r\n",
      "5d57cb00-d985-4914-9660-445ab5a55dc6_0_0.jpg\r\n",
      "6159f20c-839f-4c04-b908-34a4155d5989_0_0.jpg\r\n",
      "621bab71-4dea-48db-9a73-0fabfe114508_0_0.jpg\r\n",
      "62e41250-83b9-43e2-b7d6-950a47b2cb40_0_0.jpg\r\n",
      "6324cfdc-f6e7-4c0b-bd5e-98379dc37fa2_0_0.jpg\r\n",
      "655836de-554b-4399-8f48-2bc914cef19f_0_0.jpg\r\n",
      "661a4b99-1d9d-4393-a1d4-784d8890143c_0_0.jpg\r\n",
      "6694f568-e31a-430c-8c63-a4f8df4886e6_0_0.jpg\r\n",
      "66c5bb57-43aa-4387-9d25-18648b803e0b_0_0.jpg\r\n",
      "67596297-8a1b-40de-b4fc-5ad72ecebc1f_0_0.jpg\r\n",
      "685a8214-3f3f-4f5f-9210-f702ebcf6d04_0_0.jpg\r\n",
      "68b39531-bb40-4cbc-867b-bad6477ec392_0_0.jpg\r\n",
      "6a86ca28-3a68-4a1f-88a1-59a5c65c0f93_0_0.jpg\r\n",
      "6aa070b1-9f3c-44c7-8826-6552e673e503_0_0.jpg\r\n",
      "6b36cc77-a821-48b8-9de6-7e4c7619fd9c_0_0.jpg\r\n",
      "6ccc6e27-0ee9-44a9-bd02-a48bf40962a2_0_0.jpg\r\n",
      "72650137-b485-41c2-80aa-f6f6b2623d22_0_0.jpg\r\n",
      "72f0b4d2-578c-4251-8935-4ac17c2ca577_0_0.jpg\r\n",
      "73e4b881-b40f-46f6-b1c2-efbc99699c21_0_0.jpg\r\n",
      "744bc3c5-7111-4d45-97b6-53d93d00642e_0_0.jpg\r\n",
      "7475f65c-01f9-4bca-b440-fad661b0fba6_0_0.jpg\r\n",
      "764e9bc2-5576-45a3-aa81-2d28f8d7ef63_0_0.jpg\r\n",
      "76ee0d3b-5e7b-4563-a446-a82e54cc2229_0_0.jpg\r\n",
      "799319cb-3882-4082-a8e6-467c54ff91b6_0_0.jpg\r\n",
      "79d78b93-8de8-40b8-8d38-739299b66b44_0_0.jpg\r\n",
      "7ac3159c-4ed9-47fc-9d85-a830c7295e00_0_0.jpg\r\n",
      "7b06cc42-46b9-487a-965f-f9346f8e0211_0_0.jpg\r\n",
      "7b64198d-9200-4513-bf09-e6d95173942d_0_0.jpg\r\n",
      "7b6beb75-18bf-40ef-8071-3f1001ff03be_0_0.jpg\r\n",
      "7bf11eb8-0867-4ecb-9df5-c9f3146f28fe_0_0.jpg\r\n",
      "7c63f6e9-23f1-4d6e-b4da-a6b74aaf4da3_0_0.jpg\r\n",
      "7cf9dcef-172b-4e4e-b192-1c876097b6c3_0_0.jpg\r\n",
      "7d378618-093b-4f07-9d24-c0a69db3b8cc_0_0.jpg\r\n",
      "7d4d35f8-d3e5-4538-bacc-a7a9d367d7fb_0_0.jpg\r\n",
      "7f283fc8-904a-46e0-87dd-8b8cdd95420b_0_0.jpg\r\n",
      "7f875020-c073-4b0c-a79c-a8cee9d147ac_0_0.jpg\r\n",
      "7f8c90df-3660-494c-90a4-03b7ad228f2f_0_0.jpg\r\n",
      "80730cb4-16c9-435d-921c-a398cfaf94b4_0_0.jpg\r\n",
      "83af9b7b-e2de-499a-839d-db61b1b850ab_0_0.jpg\r\n",
      "83c5df38-80a6-47a9-b834-3a458579d273_0_0.jpg\r\n",
      "84eb10fb-3d9d-42be-8bd7-823c2814535a_0_0.jpg\r\n",
      "85ca0192-d772-4017-ae9b-4c39f33d18b8_0_0.jpg\r\n",
      "85f3e75a-8233-4a1e-a282-b122ab103bfe_0_0.jpg\r\n",
      "872841ff-f21d-4e3d-b82f-50f8d6bcf7f6_0_0.jpg\r\n",
      "87f1f1fa-3817-4e2f-aafd-10230fa9367d_0_0.jpg\r\n",
      "8887c128-d3be-4af0-a9b7-2f7df52621f9_0_0.jpg\r\n",
      "8b4731ec-0c67-48b9-b0a0-268489646d34_0_0.jpg\r\n",
      "8bd01cc4-7bef-4b7c-b9ad-5e797da82d4a_0_0.jpg\r\n",
      "8bf0ed23-0770-4f12-8808-9142e317c7be_0_0.jpg\r\n",
      "8e2a4faf-2a91-45f9-9a07-369a36a30b06_0_0.jpg\r\n",
      "8f401f27-4311-4ee1-9629-d61a8aa67b8e_0_0.jpg\r\n",
      "90f229c6-b268-44b2-ad29-964132a8355b_0_0.jpg\r\n",
      "92d20fda-f761-426d-a3aa-9b2b1464b5e2_0_0.jpg\r\n",
      "94b28936-15c8-4f82-9b43-19c1f91cce3e_0_0.jpg\r\n",
      "9657c8eb-dd6c-428b-9a01-1ee248923895_0_0.jpg\r\n",
      "969fead7-6968-43f2-8720-01c8e761b94f_0_0.jpg\r\n",
      "97fc1d72-287c-4c40-a6e0-f834f4952731_0_0.jpg\r\n",
      "980d1cb5-e89c-4fec-87c1-bc72a1aa074e_0_0.jpg\r\n",
      "98e9e054-8507-48d8-9e43-0a0fb1d2f577_0_0.jpg\r\n",
      "98ec7324-9cac-49af-99fb-c2ae1c48f1b3_0_0.jpg\r\n",
      "9a0973cb-4bc3-4e65-a364-b50f03d9dcc8_0_0.jpg\r\n",
      "9ab7e4e0-227e-414d-be83-6cd5919a6420_0_0.jpg\r\n",
      "9be12f16-6fa3-41b1-9783-4bc04f28d37a_0_0.jpg\r\n",
      "9be3a8eb-bf7c-4bcc-aa9e-f5898ba346c2_0_0.jpg\r\n",
      "9e9c8866-8098-4ae0-b2f5-d177afee3608_0_0.jpg\r\n",
      "9ed1fccd-bbbe-4e04-8eef-36acb2c7843c_0_0.jpg\r\n",
      "9f0feb31-8e6c-4e6d-9562-73e6e98ad52e_0_0.jpg\r\n",
      "9ff4fb75-0d60-4210-8641-e4d1f7d29c26_0_0.jpg\r\n",
      "a0943485-b895-4859-b022-daef1383d1eb_0_0.jpg\r\n",
      "a1c31474-373b-4857-8a57-363917722fb7_0_0.jpg\r\n",
      "a237c880-ae61-44c2-85f4-081062e42c5d_0_0.jpg\r\n",
      "a318a036-7062-4a21-bebd-4aa0470577aa_0_0.jpg\r\n",
      "a33ee1cd-eb9b-49a8-ad51-c2df73aba2f0_0_0.jpg\r\n",
      "a3d183f0-b371-415d-9443-7cf22a5ccded_0_0.jpg\r\n",
      "a40937cc-25e7-4cf3-b2cb-d8b7792a552f_0_0.jpg\r\n",
      "a4691295-12fb-473c-bd51-062a903aaa0c_0_0.jpg\r\n",
      "a79ca340-55b4-4640-af78-91325da6822b_0_0.jpg\r\n",
      "a8434753-c7a6-42be-b5be-11945a12dc96_0_0.jpg\r\n",
      "a87b9d31-564e-4a78-b1f2-ae1f4173aa12_0_0.jpg\r\n",
      "a88e8896-16d7-40ea-acf0-c8fb0845d8fb_0_0.jpg\r\n",
      "a9f1ef49-26a2-4b57-a110-356e227f48b0_0_0.jpg\r\n",
      "aa844c43-140a-4f94-b0f3-47d5aa3bd85f_0_0.jpg\r\n",
      "aaa74e56-9112-4c6d-a531-a7f7682c6cd1_0_0.jpg\r\n",
      "ab12d403-3781-4ca0-959d-56f6381d1bde_0_0.jpg\r\n",
      "ab33d156-b0a5-4aec-abdf-4191119f3cf9_0_0.jpg\r\n",
      "ac661474-385e-49e9-ab07-7caa7e7324d1_0_0.jpg\r\n",
      "acde3f30-bca1-4fa1-bafc-cfe0a51fcf14_0_0.jpg\r\n",
      "ad2055c3-5099-427b-8b90-0a4483eaa12a_0_0.jpg\r\n",
      "af30aa4f-eb5e-4a15-9a3f-440e433da61c_0_0.jpg\r\n",
      "afa23652-578c-4b7c-b6bf-3d82ee09a80f_0_0.jpg\r\n",
      "afb2e684-93da-4b98-b59d-6e3fbd871792_0_0.jpg\r\n",
      "b1661cd1-279c-47f3-830b-b4801a3f6ffc_0_0.jpg\r\n",
      "b26f1213-65e6-4fe7-bc97-7ffb0f0d31db_0_0.jpg\r\n",
      "b285e43a-a2d4-4587-a3bf-d409dd82eef5_0_0.jpg\r\n",
      "b59750da-124d-4615-a037-8f6940eb483c_0_0.jpg\r\n",
      "b7493cbe-a78c-4a7b-a92d-559c113d0a1f_0_0.jpg\r\n",
      "b8127f2c-c49c-4e31-9af1-8c088ee67b45_0_0.jpg\r\n",
      "b8dc7e23-a138-4f42-ab7f-3df8daec738a_0_0.jpg\r\n",
      "ba6aa56f-6b33-4d8e-8e8b-df70ec791e7d_0_0.jpg\r\n",
      "bdd04df5-8055-4112-8e8b-aa87abf579d3_0_0.jpg\r\n",
      "bde80d4a-8e9e-4562-a28a-4bc3ab0545c9_0_0.jpg\r\n",
      "be017f36-92a1-4678-b9ac-addb5a1f2a54_0_0.jpg\r\n",
      "be4b3897-c400-40e2-a351-3a30922708a2_0_0.jpg\r\n",
      "bf27a578-19ec-40ab-b86f-851cd4306404_0_0.jpg\r\n",
      "bf7174f0-2349-4d81-984c-9226b3cb3520_0_0.jpg\r\n",
      "bf8c5a4d-2017-4e2e-aa54-a297c16da45d_0_0.jpg\r\n",
      "bfd3902e-25d2-428e-9f93-4a034773fbae_0_0.jpg\r\n",
      "c14bc120-d0d7-4b7f-ae11-5474bb4a588a_0_0.jpg\r\n",
      "c16049f1-05ab-4261-9463-9adbbbdc4f0e_0_0.jpg\r\n",
      "c1d31e24-9af5-4811-a6d0-599e1e7d6702_0_0.jpg\r\n",
      "c256a760-0da5-4a5a-99c9-25ba1ae6d84f_0_0.jpg\r\n",
      "c2d70711-1719-4d9d-85e4-db47ba8266cc_0_0.jpg\r\n",
      "c38ffab0-cc38-4f43-868e-5a1aec162de5_0_0.jpg\r\n",
      "c6e32547-8328-4094-a071-f07fccec147a_0_0.jpg\r\n",
      "c7546801-850b-4040-8765-25fa242044d0_0_0.jpg\r\n",
      "c7a3c821-7614-4a70-b8c2-0c4a1b947eae_0_0.jpg\r\n",
      "c8dd1956-09b1-49cc-a3bc-afcfe849e557_0_0.jpg\r\n",
      "c9ef449c-2ebe-4351-9745-055b72ce523e_0_0.jpg\r\n",
      "cc25e5d3-b0aa-498e-b56d-4466e83c073f_0_0.jpg\r\n",
      "ccfbe62c-5679-4528-87f4-3bab3f9c3a8c_0_0.jpg\r\n",
      "ce4589ff-57f5-473e-bcb8-3c91a5031868_0_0.jpg\r\n",
      "cf4d92c0-4a5f-418e-ac8f-403ab026444c_0_0.jpg\r\n",
      "cf8be9ff-e830-4a8e-adb1-6e4c5c67816a_0_0.jpg\r\n",
      "d00c6c36-f096-4980-b011-5456501b72d0_0_0.jpg\r\n",
      "d0bebe18-b9cb-4a92-803a-8dcf7a47d052_0_0.jpg\r\n",
      "d13b747d-4b31-453d-a4b3-edeb9f28cdfd_0_0.jpg\r\n",
      "d1d37da7-dba6-407b-aa3c-17694bf19b88_0_0.jpg\r\n",
      "d2652487-9c86-4ff2-9d99-ca188b5ae55d_0_0.jpg\r\n",
      "d2b520a8-fd8d-49ce-98b2-f062da396790_0_0.jpg\r\n",
      "d3efc6bc-7532-49e4-b581-33f6cb03488d_0_0.jpg\r\n",
      "d401bc4b-157b-42c6-ab85-9f6a22a766ff_0_0.jpg\r\n",
      "d4308d28-b9e1-49a5-91f6-3c998a7076e3_0_0.jpg\r\n",
      "d4df28c5-4260-4f85-b3ae-07638f26a474_0_0.jpg\r\n",
      "d7483127-eb59-4b9d-8fd9-476a7a10696b_0_0.jpg\r\n",
      "d86cdfdc-14e7-477a-baf1-d63cafc60b0b_0_0.jpg\r\n",
      "d9948d5d-bf71-4d18-a375-86359b7340fc_0_0.jpg\r\n",
      "d99c69ae-612d-4649-9182-941e633c85bf_0_0.jpg\r\n",
      "d9e8432a-4026-469a-aa90-e3816a09e030_0_0.jpg\r\n",
      "db4d62b8-b1ab-4261-abdb-1637e3b223c5_0_0.jpg\r\n",
      "dbb6cdf2-10ab-49fb-8fb8-033bd7229080_0_0.jpg\r\n",
      "dc8dec16-6b75-41de-ade1-11f8a26204e4_0_0.jpg\r\n",
      "df443cde-2be2-4deb-9186-c043556768b3_0_0.jpg\r\n",
      "df516842-8e57-48cc-bdf6-47155ed50fc1_0_0.jpg\r\n",
      "df743ea4-5676-4fa0-9c17-e464193fdccf_0_0.jpg\r\n",
      "e0dac7eb-b942-4939-b034-e85128bdaad8_0_0.jpg\r\n",
      "e1318366-cedc-4f2f-b8d1-89147453986c_0_0.jpg\r\n",
      "e13dbaa0-fba2-4456-81ec-93812e481d1c_0_0.jpg\r\n",
      "e1942f00-209d-401a-895d-aa5a82b76350_0_0.jpg\r\n",
      "e2b8fb3e-08c6-4fe0-8bec-b4c5e326988e_0_0.jpg\r\n",
      "e4332a41-bba9-4436-8473-df11524a0ff0_0_0.jpg\r\n",
      "e4628793-40dd-4f44-896f-dd76548d30d3_0_0.jpg\r\n",
      "e487f9c2-936c-4753-be28-4cf54ae133fe_0_0.jpg\r\n",
      "e7f5cae6-7d11-4ecb-bcd9-ff0eb0e2fb2f_0_0.jpg\r\n",
      "ea8b02fa-be53-4645-8809-b8f781e7ad5a_0_0.jpg\r\n",
      "eb1d5b72-0f4d-4c71-9bdd-1f5381ebef7e_0_0.jpg\r\n",
      "eccf31d1-0c7e-4b39-9cc2-b1b8b9b4dc8b_0_0.jpg\r\n",
      "edb22eaf-535c-4f59-872b-f0aef49e6c6d_0_0.jpg\r\n",
      "ef2b1692-d490-44d2-b4fc-dd76a0372d4e_0_0.jpg\r\n",
      "efa47c18-5e30-4934-bb23-f5a3c359942d_0_0.jpg\r\n",
      "f0298961-8742-4839-81ab-99d791dd44b8_0_0.jpg\r\n",
      "f07ec8ec-11d3-47c8-9087-a2d7a445d540_0_0.jpg\r\n",
      "f087a236-5c2d-4330-be2e-1dfe13be018e_0_0.jpg\r\n",
      "f0c06428-0c39-4203-8160-b7f0cbbbbe32_0_0.jpg\r\n",
      "f0fc9c48-52cb-42fe-9d40-684cdc65eb5d_0_0.jpg\r\n",
      "f17223bd-cd67-4b1e-8d69-3be19649c450_0_0.jpg\r\n",
      "f226a90d-ddbb-497c-ad38-9ef8b9798b69_0_0.jpg\r\n",
      "f3c92fbf-bfcb-446f-80f0-c80d0d713d63_0_0.jpg\r\n",
      "f46149d7-47c3-4470-91e4-7920e2bcd2b9_0_0.jpg\r\n",
      "f578f11c-7298-42ba-aee5-e64775e79d24_0_0.jpg\r\n",
      "f5d5700a-e78a-4bd2-8baa-d37acdc6b9b4_0_0.jpg\r\n",
      "f5f41f01-8a85-4c81-9b4f-25f692d2ba33_0_0.jpg\r\n",
      "f7507f45-cc8e-4c22-b5ee-b3731c0913db_0_0.jpg\r\n",
      "f86f1cf5-6027-4588-99fc-409f83846cd7_0_0.jpg\r\n",
      "f9717588-131a-4aef-9715-1026b21e958f_0_0.jpg\r\n",
      "f9bede6f-6f4f-46cd-8e16-c2755c52f91e_0_0.jpg\r\n",
      "f9e1a895-a116-4f9d-b279-aaf7398ef268_0_0.jpg\r\n",
      "fb113bde-420d-49a2-b172-667752a05193_0_0.jpg\r\n",
      "fb23b385-3e1a-4a38-b934-dd28c897d457_0_0.jpg\r\n",
      "fc4a320f-e920-4ecd-9fb8-d1fdaea76c23_0_0.jpg\r\n",
      "fc5d8b7e-940e-446c-b353-98e67264ae12_0_0.jpg\r\n",
      "fce5e703-8172-49ec-be78-5a7232852992_0_0.jpg\r\n",
      "fef02384-59b7-4f8a-b11e-dcf4f647b973_0_0.jpg\r\n"
     ]
    }
   ],
   "source": [
    "!ls line_val/fire/"
   ]
  },
  {
   "cell_type": "code",
   "execution_count": null,
   "metadata": {
    "pycharm": {
     "name": "#%%\n"
    }
   },
   "outputs": [],
   "source": [
    "PATH_TO_RESULT_DATASET = \"/home/odyssey/mmk_smoke_detection/validation/expanded_val/\"\n",
    "\n",
    "\n",
    "def prob_to_move(label_idx: int) -> float:\n",
    "    return 1\n",
    "\n",
    "\n",
    "splitter = TrainTestSplitter(\n",
    "    src_dir=PATH_TO_RESULT_DATASET,\n",
    "    dst_dir='three_validation',\n",
    "    prob_border=1.1,\n",
    "    labels=LABELS[:-1],\n",
    "    mapper=lambda label_idx: label_idx % 3,\n",
    "    prob_to_move=prob_to_move\n",
    ")\n",
    "splitter.split()"
   ]
  },
  {
   "cell_type": "code",
   "execution_count": null,
   "metadata": {
    "pycharm": {
     "name": "#%%\n"
    }
   },
   "outputs": [],
   "source": [
    "PATH_TO_RESULT_DATASET = \"/home/odyssey/mmk_smoke_detection/validation/expanded_val/\"\n",
    "\n",
    "def prob_to_move(label_idx: int) -> float:\n",
    "    return 1\n",
    "\n",
    "def mapper(label_idx: int) -> int:\n",
    "    if label_idx != 1:\n",
    "        return 0\n",
    "    return 1\n",
    "\n",
    "splitter = TrainTestSplitter(\n",
    "    src_dir=PATH_TO_RESULT_DATASET,\n",
    "    dst_dir='binary_validation',\n",
    "    prob_border=1.1,\n",
    "    labels=LABELS[:-2],\n",
    "    mapper=mapper,\n",
    "    prob_to_move=prob_to_move\n",
    ")\n",
    "splitter.split()"
   ]
  },
  {
   "cell_type": "code",
   "execution_count": null,
   "metadata": {
    "pycharm": {
     "name": "#%%\n"
    }
   },
   "outputs": [],
   "source": [
    "PATH_TO_RESULT_DATASET = 'small_aug_dataset'\n",
    "# PATH_TO_RESULT_MEDIUM_DATASET = 'medium_aug_dataset'\n",
    "\n",
    "splitter = TrainTestSplitter(\n",
    "    src_dir=PATH_TO_RESULT_DATASET,\n",
    "    dst_dir=f'splitted_{PATH_TO_RESULT_DATASET}'\n",
    ")\n",
    "splitter.split()"
   ]
  },
  {
   "cell_type": "code",
   "execution_count": null,
   "metadata": {
    "pycharm": {
     "name": "#%%\n"
    }
   },
   "outputs": [],
   "source": [
    "PATH_TO_RESULT_DATASET = 'small_aug_dataset'\n",
    "# PATH_TO_RESULT_MEDIUM_DATASET = 'medium_aug_dataset'\n",
    "\n",
    "splitter = TrainTestSplitter(\n",
    "    src_dir=PATH_TO_RESULT_DATASET,\n",
    "    dst_dir=f'binary_splitted_{PATH_TO_RESULT_DATASET}',\n",
    "    is_binary=True\n",
    ")\n",
    "splitter.split()"
   ]
  },
  {
   "cell_type": "code",
   "execution_count": null,
   "metadata": {
    "pycharm": {
     "name": "#%%\n"
    }
   },
   "outputs": [],
   "source": [
    "# PATH_TO_RESULT_DATASET = 'small_aug_dataset'\n",
    "PATH_TO_RESULT_MEDIUM_DATASET = 'medium_aug_dataset'\n",
    "\n",
    "splitter = TrainTestSplitter(\n",
    "    src_dir=PATH_TO_RESULT_MEDIUM_DATASET,\n",
    "    dst_dir=f'splitted_{PATH_TO_RESULT_MEDIUM_DATASET}'\n",
    ")\n",
    "splitter.split()"
   ]
  },
  {
   "cell_type": "code",
   "execution_count": null,
   "metadata": {
    "pycharm": {
     "name": "#%%\n"
    }
   },
   "outputs": [],
   "source": [
    "# PATH_TO_RESULT_DATASET = 'small_aug_dataset'\n",
    "PATH_TO_RESULT_MEDIUM_DATASET = 'medium_aug_dataset'\n",
    "\n",
    "splitter = TrainTestSplitter(\n",
    "    src_dir=PATH_TO_RESULT_MEDIUM_DATASET,\n",
    "    dst_dir=f'binary_splitted_{PATH_TO_RESULT_MEDIUM_DATASET}',\n",
    "    is_binary=True\n",
    ")\n",
    "splitter.split()"
   ]
  }
 ],
 "metadata": {
  "kernelspec": {
   "display_name": "Python 3 (ipykernel)",
   "language": "python",
   "name": "python3"
  },
  "language_info": {
   "codemirror_mode": {
    "name": "ipython",
    "version": 3
   },
   "file_extension": ".py",
   "mimetype": "text/x-python",
   "name": "python",
   "nbconvert_exporter": "python",
   "pygments_lexer": "ipython3",
   "version": "3.8.10"
  }
 },
 "nbformat": 4,
 "nbformat_minor": 1
}
