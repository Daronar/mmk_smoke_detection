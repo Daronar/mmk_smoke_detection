{
 "cells": [
  {
   "cell_type": "code",
   "execution_count": 54,
   "metadata": {},
   "outputs": [
    {
     "name": "stdout",
     "output_type": "stream",
     "text": [
      "['/home/odyssey/mmk_smoke_detection/validation', '/usr/lib/python38.zip', '/home/odyssey/mmk_smoke_detection/', '/home/odyssey/mmk_smoke_detection/', '/usr/lib/python3.8', '/usr/lib/python3.8/lib-dynload', '', '/home/odyssey/.local/lib/python3.8/site-packages', '/usr/local/lib/python3.8/dist-packages', '/usr/lib/python3/dist-packages', '/home/odyssey/.local/lib/python3.8/site-packages/IPython/extensions', '/home/odyssey/.ipython']\n",
      "['/home/odyssey/mmk_smoke_detection/validation', '/usr/lib/python38.zip', '/home/odyssey/mmk_smoke_detection/', '/home/odyssey/mmk_smoke_detection/', '/home/odyssey/mmk_smoke_detection/', '/usr/lib/python3.8', '/usr/lib/python3.8/lib-dynload', '', '/home/odyssey/.local/lib/python3.8/site-packages', '/usr/local/lib/python3.8/dist-packages', '/usr/lib/python3/dist-packages', '/home/odyssey/.local/lib/python3.8/site-packages/IPython/extensions', '/home/odyssey/.ipython']\n"
     ]
    }
   ],
   "source": [
    "import sys\n",
    "print(sys.path)\n",
    "sys.path.insert(2, '/home/odyssey/mmk_smoke_detection/')\n",
    "print(sys.path)"
   ]
  },
  {
   "cell_type": "code",
   "execution_count": 55,
   "metadata": {},
   "outputs": [],
   "source": [
    "from dataset_preparator.preparator import plot_detections\n",
    "from dataset_preparator.classJson import JsonData\n",
    "PATH_TO_CONF = \"/home/odyssey/mmk_smoke_detection/validation/new_conf\""
   ]
  },
  {
   "cell_type": "code",
   "execution_count": 56,
   "metadata": {},
   "outputs": [],
   "source": [
    "from typing import Dict\n",
    "import glob\n",
    "import os\n",
    "\n",
    "class ConfigController:\n",
    "    configs: Dict[str, JsonData]\n",
    "        \n",
    "    @staticmethod\n",
    "    def extract_key_from_conf_filename(\n",
    "        conf_filename: str\n",
    "    ) -> str:\n",
    "        return os.path.basename(conf_filename)[5:13]\n",
    "    \n",
    "    def __init__(\n",
    "        self,\n",
    "        path_to_configs: str,\n",
    "    ):\n",
    "        self.configs = {}\n",
    "        conf_files = glob.glob(os.path.join(path_to_configs, '*'))\n",
    "        print(conf_files)\n",
    "        for conf_file in conf_files:\n",
    "            conf_key = self.extract_key_from_conf_filename(conf_file)\n",
    "            conf_data = JsonData(conf_file)\n",
    "            self.configs[conf_key] = conf_data\n",
    "            \n",
    "    def __getitem__(\n",
    "        self,\n",
    "        key: str\n",
    "    ) -> JsonData:\n",
    "        return self.configs[key]\n",
    "        "
   ]
  },
  {
   "cell_type": "code",
   "execution_count": 57,
   "metadata": {},
   "outputs": [
    {
     "name": "stdout",
     "output_type": "stream",
     "text": [
      "['/home/odyssey/mmk_smoke_detection/validation/new_conf/conf_ct131406.json', '/home/odyssey/mmk_smoke_detection/validation/new_conf/conf_ct131405.json', '/home/odyssey/mmk_smoke_detection/validation/new_conf/conf_ct131402.json', '/home/odyssey/mmk_smoke_detection/validation/new_conf/conf_ct131401.json', '/home/odyssey/mmk_smoke_detection/validation/new_conf/conf_ct131403.json', '/home/odyssey/mmk_smoke_detection/validation/new_conf/conf_ct131404.json']\n"
     ]
    },
    {
     "data": {
      "text/plain": [
       "<dataset_preparator.classJson.JsonData at 0x7f6d600c1460>"
      ]
     },
     "execution_count": 57,
     "metadata": {},
     "output_type": "execute_result"
    }
   ],
   "source": [
    "conf_con = ConfigController(PATH_TO_CONF)\n",
    "# list(conf_con.configs.keys())\n",
    "conf_con['ct131405']"
   ]
  },
  {
   "cell_type": "code",
   "execution_count": 58,
   "metadata": {},
   "outputs": [
    {
     "name": "stdout",
     "output_type": "stream",
     "text": [
      "ct131401  ct131402  ct131403  ct131404\tct131405  ct131406  ct1314.csv\r\n"
     ]
    }
   ],
   "source": [
    "!ls 05.10.21 "
   ]
  },
  {
   "cell_type": "code",
   "execution_count": 59,
   "metadata": {},
   "outputs": [],
   "source": [
    "LABELS = [\"background\", \"emission\", \"fire\", \"machine\"]\n",
    "CATEGORY_INDEX = {\n",
    "    label_idx: {\"id\": label_idx, \"name\": label}\n",
    "    for label_idx, label in enumerate(LABELS)\n",
    "}"
   ]
  },
  {
   "cell_type": "code",
   "execution_count": 60,
   "metadata": {},
   "outputs": [],
   "source": [
    "PATH_TO_VALIDATION_DATA = \"05.10.21\"\n",
    "\n",
    "validation_camera_keys = [\n",
    "    path.split('/')[1]\n",
    "    for path in glob.glob(os.path.join(PATH_TO_VALIDATION_DATA, '*'))\n",
    "    if os.path.isdir(path)\n",
    "]"
   ]
  },
  {
   "cell_type": "code",
   "execution_count": 61,
   "metadata": {},
   "outputs": [
    {
     "data": {
      "text/plain": [
       "['ct131402', 'ct131406', 'ct131405', 'ct131404', 'ct131401', 'ct131403']"
      ]
     },
     "execution_count": 61,
     "metadata": {},
     "output_type": "execute_result"
    }
   ],
   "source": [
    "validation_camera_keys"
   ]
  },
  {
   "cell_type": "code",
   "execution_count": 117,
   "metadata": {},
   "outputs": [],
   "source": [
    "import random\n",
    "\n",
    "random_image_for_key = random.choice(\n",
    "    glob.glob(\n",
    "        os.path.join(PATH_TO_VALIDATION_DATA, validation_camera_keys[0], \"emission\", \"**\", \"*\")\n",
    "    )\n",
    ")"
   ]
  },
  {
   "cell_type": "code",
   "execution_count": 118,
   "metadata": {},
   "outputs": [
    {
     "data": {
      "text/plain": [
       "'05.10.21/ct131402/emission/weak/60a5f771-2a5e-493a-87c3-16da9405ccbd.jpg'"
      ]
     },
     "execution_count": 118,
     "metadata": {},
     "output_type": "execute_result"
    }
   ],
   "source": [
    "random_image_for_key"
   ]
  },
  {
   "cell_type": "code",
   "execution_count": 119,
   "metadata": {},
   "outputs": [],
   "source": [
    "import cv2\n",
    "import numpy as np\n",
    "from PIL import Image, ImageDraw\n",
    "\n",
    "frame = np.array(Image.open(random_image_for_key))\n",
    "pers_matrix = conf_con[validation_camera_keys[0]].return_matrix()\n",
    "# frame = cv2.warpPerspective(\n",
    "#     np.array(frame),\n",
    "#     np.array(pers_matrix['matrix']),\n",
    "#     (pers_matrix['maxWidth'], pers_matrix['maxHeight']),\n",
    "#     flags=cv2.INTER_LINEAR\n",
    "# )"
   ]
  },
  {
   "cell_type": "code",
   "execution_count": 120,
   "metadata": {},
   "outputs": [
    {
     "data": {
      "text/plain": [
       "(1391, 940)"
      ]
     },
     "execution_count": 120,
     "metadata": {},
     "output_type": "execute_result"
    }
   ],
   "source": [
    "(pers_matrix['maxWidth'], pers_matrix['maxHeight'])"
   ]
  },
  {
   "cell_type": "code",
   "execution_count": 121,
   "metadata": {},
   "outputs": [
    {
     "data": {
      "text/plain": [
       "(1080, 1920, 3)"
      ]
     },
     "execution_count": 121,
     "metadata": {},
     "output_type": "execute_result"
    }
   ],
   "source": [
    "frame.shape"
   ]
  },
  {
   "cell_type": "code",
   "execution_count": 122,
   "metadata": {},
   "outputs": [],
   "source": [
    "Image.fromarray(frame).show()"
   ]
  },
  {
   "cell_type": "code",
   "execution_count": 123,
   "metadata": {},
   "outputs": [
    {
     "data": {
      "text/html": [
       "<div>\n",
       "<style scoped>\n",
       "    .dataframe tbody tr th:only-of-type {\n",
       "        vertical-align: middle;\n",
       "    }\n",
       "\n",
       "    .dataframe tbody tr th {\n",
       "        vertical-align: top;\n",
       "    }\n",
       "\n",
       "    .dataframe thead th {\n",
       "        text-align: right;\n",
       "    }\n",
       "</style>\n",
       "<table border=\"1\" class=\"dataframe\">\n",
       "  <thead>\n",
       "    <tr style=\"text-align: right;\">\n",
       "      <th></th>\n",
       "      <th>paths</th>\n",
       "      <th>x_min</th>\n",
       "      <th>x_max</th>\n",
       "      <th>y_min</th>\n",
       "      <th>y_max</th>\n",
       "      <th>class</th>\n",
       "    </tr>\n",
       "  </thead>\n",
       "  <tbody>\n",
       "    <tr>\n",
       "      <th>0</th>\n",
       "      <td>ct131401/background/900bae5e-94e7-42db-82c1-2d...</td>\n",
       "      <td>287</td>\n",
       "      <td>341</td>\n",
       "      <td>877</td>\n",
       "      <td>919</td>\n",
       "      <td>background</td>\n",
       "    </tr>\n",
       "    <tr>\n",
       "      <th>1</th>\n",
       "      <td>ct131401/background/ae85e990-96f2-4c39-8e09-5a...</td>\n",
       "      <td>408</td>\n",
       "      <td>454</td>\n",
       "      <td>609</td>\n",
       "      <td>649</td>\n",
       "      <td>background</td>\n",
       "    </tr>\n",
       "    <tr>\n",
       "      <th>2</th>\n",
       "      <td>ct131401/background/6692a25b-1fde-4f26-ace3-d3...</td>\n",
       "      <td>474</td>\n",
       "      <td>515</td>\n",
       "      <td>457</td>\n",
       "      <td>494</td>\n",
       "      <td>background</td>\n",
       "    </tr>\n",
       "    <tr>\n",
       "      <th>3</th>\n",
       "      <td>ct131401/background/b95bf74a-6c02-454f-922f-76...</td>\n",
       "      <td>489</td>\n",
       "      <td>530</td>\n",
       "      <td>408</td>\n",
       "      <td>439</td>\n",
       "      <td>background</td>\n",
       "    </tr>\n",
       "    <tr>\n",
       "      <th>4</th>\n",
       "      <td>ct131401/background/5c866374-7b9e-47a4-9d3e-3a...</td>\n",
       "      <td>321</td>\n",
       "      <td>372</td>\n",
       "      <td>799</td>\n",
       "      <td>845</td>\n",
       "      <td>background</td>\n",
       "    </tr>\n",
       "  </tbody>\n",
       "</table>\n",
       "</div>"
      ],
      "text/plain": [
       "                                               paths  x_min  x_max  y_min  \\\n",
       "0  ct131401/background/900bae5e-94e7-42db-82c1-2d...    287    341    877   \n",
       "1  ct131401/background/ae85e990-96f2-4c39-8e09-5a...    408    454    609   \n",
       "2  ct131401/background/6692a25b-1fde-4f26-ace3-d3...    474    515    457   \n",
       "3  ct131401/background/b95bf74a-6c02-454f-922f-76...    489    530    408   \n",
       "4  ct131401/background/5c866374-7b9e-47a4-9d3e-3a...    321    372    799   \n",
       "\n",
       "   y_max       class  \n",
       "0    919  background  \n",
       "1    649  background  \n",
       "2    494  background  \n",
       "3    439  background  \n",
       "4    845  background  "
      ]
     },
     "execution_count": 123,
     "metadata": {},
     "output_type": "execute_result"
    }
   ],
   "source": [
    "import pandas as pd\n",
    "PATH_TO_CSV = \"05.10.21/ct1314.csv\"\n",
    "table = pd.read_csv(PATH_TO_CSV)\n",
    "table.head()"
   ]
  },
  {
   "cell_type": "code",
   "execution_count": 124,
   "metadata": {},
   "outputs": [
    {
     "data": {
      "text/plain": [
       "'ct131402/emission/weak/60a5f771-2a5e-493a-87c3-16da9405ccbd.jpg'"
      ]
     },
     "execution_count": 124,
     "metadata": {},
     "output_type": "execute_result"
    }
   ],
   "source": [
    "os.path.join(*random_image_for_key.split('/')[1:])"
   ]
  },
  {
   "cell_type": "code",
   "execution_count": 125,
   "metadata": {},
   "outputs": [],
   "source": [
    "table_path = os.path.join(*random_image_for_key.split('/')[1:])\n",
    "path_table_part = table[table['paths'] == table_path]"
   ]
  },
  {
   "cell_type": "code",
   "execution_count": 126,
   "metadata": {},
   "outputs": [
    {
     "data": {
      "text/html": [
       "<div>\n",
       "<style scoped>\n",
       "    .dataframe tbody tr th:only-of-type {\n",
       "        vertical-align: middle;\n",
       "    }\n",
       "\n",
       "    .dataframe tbody tr th {\n",
       "        vertical-align: top;\n",
       "    }\n",
       "\n",
       "    .dataframe thead th {\n",
       "        text-align: right;\n",
       "    }\n",
       "</style>\n",
       "<table border=\"1\" class=\"dataframe\">\n",
       "  <thead>\n",
       "    <tr style=\"text-align: right;\">\n",
       "      <th></th>\n",
       "      <th>paths</th>\n",
       "      <th>x_min</th>\n",
       "      <th>x_max</th>\n",
       "      <th>y_min</th>\n",
       "      <th>y_max</th>\n",
       "      <th>class</th>\n",
       "    </tr>\n",
       "  </thead>\n",
       "  <tbody>\n",
       "    <tr>\n",
       "      <th>180</th>\n",
       "      <td>ct131402/emission/weak/60a5f771-2a5e-493a-87c3...</td>\n",
       "      <td>517</td>\n",
       "      <td>576</td>\n",
       "      <td>898</td>\n",
       "      <td>942</td>\n",
       "      <td>emission</td>\n",
       "    </tr>\n",
       "  </tbody>\n",
       "</table>\n",
       "</div>"
      ],
      "text/plain": [
       "                                                 paths  x_min  x_max  y_min  \\\n",
       "180  ct131402/emission/weak/60a5f771-2a5e-493a-87c3...    517    576    898   \n",
       "\n",
       "     y_max     class  \n",
       "180    942  emission  "
      ]
     },
     "execution_count": 126,
     "metadata": {},
     "output_type": "execute_result"
    }
   ],
   "source": [
    "path_table_part"
   ]
  },
  {
   "cell_type": "code",
   "execution_count": 127,
   "metadata": {},
   "outputs": [
    {
     "data": {
      "text/plain": [
       "'emission'"
      ]
     },
     "execution_count": 127,
     "metadata": {},
     "output_type": "execute_result"
    }
   ],
   "source": [
    "path_table_part['class'].to_list()[0]"
   ]
  },
  {
   "cell_type": "code",
   "execution_count": 260,
   "metadata": {},
   "outputs": [],
   "source": [
    "boxes = path_table_part[['y_min', 'x_min', 'y_max', 'x_max']].to_numpy()\n",
    "classes = np.array([LABELS.index(path_table_part['class'].to_list()[0])])\n",
    "scores = np.array([1.0])\n",
    "\n",
    "plot_detections(\n",
    "    image_np=frame,\n",
    "    boxes=np.array(boxes),\n",
    "    classes=np.array(classes),\n",
    "    scores=np.array(scores),\n",
    "    category_index=CATEGORY_INDEX,\n",
    "    image_name=\"test_draw.jpg\",\n",
    "    line_thickness=[2],\n",
    "    use_normalized_coordinates=False\n",
    ")"
   ]
  },
  {
   "cell_type": "code",
   "execution_count": 257,
   "metadata": {},
   "outputs": [
    {
     "name": "stdout",
     "output_type": "stream",
     "text": [
      "(2, 1, 2)\n"
     ]
    }
   ],
   "source": [
    "# test_boxes = path_table_part[['y_min', 'x_min', 'y_max', 'x_max']].to_numpy()\n",
    "test_boxes = path_table_part[['x_min', 'y_min', 'x_max', 'y_max']].to_numpy()\n",
    "test_boxes = np.float32(test_boxes).reshape(-1,1,2)\n",
    "mat = np.array(pers_matrix['matrix'])\n",
    "pers_box = cv2.perspectiveTransform(test_boxes, mat).reshape(4).astype(int)\n",
    "pers_box = [[pers_box[1], pers_box[0], pers_box[3], pers_box[2]]]"
   ]
  },
  {
   "cell_type": "code",
   "execution_count": 259,
   "metadata": {},
   "outputs": [
    {
     "name": "stdout",
     "output_type": "stream",
     "text": [
      "(940, 1391, 3)\n"
     ]
    }
   ],
   "source": [
    "pers_frame = cv2.warpPerspective(\n",
    "    np.array(frame),\n",
    "    np.array(pers_matrix['matrix']),\n",
    "    (pers_matrix['maxWidth'], pers_matrix['maxHeight']),\n",
    "    flags=cv2.INTER_LINEAR\n",
    ")\n",
    "\n",
    "print(pers_frame.shape)\n",
    "\n",
    "plot_detections(\n",
    "    image_np=pers_frame,\n",
    "    boxes=np.array(pers_box),\n",
    "    classes=np.array(classes),\n",
    "    scores=np.array(scores),\n",
    "    category_index=CATEGORY_INDEX,\n",
    "    image_name=\"box_test_draw.jpg\",\n",
    "    line_thickness=[6],\n",
    "    use_normalized_coordinates=False\n",
    ")\n"
   ]
  },
  {
   "cell_type": "code",
   "execution_count": 250,
   "metadata": {},
   "outputs": [],
   "source": [
    "Image.fromarray(pers_frame).save('test_pers.jpg')"
   ]
  },
  {
   "cell_type": "code",
   "execution_count": null,
   "metadata": {},
   "outputs": [],
   "source": []
  }
 ],
 "metadata": {
  "kernelspec": {
   "display_name": "Python 3 (ipykernel)",
   "language": "python",
   "name": "python3"
  },
  "language_info": {
   "codemirror_mode": {
    "name": "ipython",
    "version": 3
   },
   "file_extension": ".py",
   "mimetype": "text/x-python",
   "name": "python",
   "nbconvert_exporter": "python",
   "pygments_lexer": "ipython3",
   "version": "3.8.10"
  }
 },
 "nbformat": 4,
 "nbformat_minor": 1
}
