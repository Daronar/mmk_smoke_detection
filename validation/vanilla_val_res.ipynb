{
 "cells": [
  {
   "cell_type": "code",
   "execution_count": 56,
   "id": "696bbdc8",
   "metadata": {},
   "outputs": [],
   "source": [
    "import os \n",
    "from tensorflow import keras\n",
    "import tensorflow as tf\n",
    "import shutil\n",
    "from matplotlib import pyplot as plt\n",
    "from PIL import Image\n",
    "import numpy as np\n",
    "\n",
    "from keras.applications.inception_v3 import preprocess_input"
   ]
  },
  {
   "cell_type": "code",
   "execution_count": 17,
   "id": "c36daa6b",
   "metadata": {},
   "outputs": [],
   "source": [
    "PATH_TO_VANILLA_MODEL = '/home/odyssey/mmk_smoke_detection/model/hatches.h5'\n",
    "PATH_TO_DATASET = './not_expanded_val'\n",
    "LABELS = ['background', 'emission', 'fire', 'machine']"
   ]
  },
  {
   "cell_type": "code",
   "execution_count": null,
   "id": "66f39b1e",
   "metadata": {},
   "outputs": [],
   "source": []
  },
  {
   "cell_type": "code",
   "execution_count": 18,
   "id": "c7a18141",
   "metadata": {},
   "outputs": [
    {
     "name": "stdout",
     "output_type": "stream",
     "text": [
      "hatches.h5  hatches.h5.dvc\r\n"
     ]
    }
   ],
   "source": [
    "!ls /home/odyssey/mmk_smoke_detection/model/"
   ]
  },
  {
   "cell_type": "code",
   "execution_count": 19,
   "id": "417f8a24",
   "metadata": {},
   "outputs": [],
   "source": [
    "gpus = tf.config.experimental.list_physical_devices('GPU')\n",
    "for gpu in gpus:\n",
    "    tf.config.experimental.set_memory_growth(gpu, True)\n",
    "vanilla_model = keras.models.load_model(PATH_TO_VANILLA_MODEL, compile=True)"
   ]
  },
  {
   "cell_type": "code",
   "execution_count": 20,
   "id": "11eb3036",
   "metadata": {},
   "outputs": [
    {
     "name": "stdout",
     "output_type": "stream",
     "text": [
      "Tue Oct 19 19:20:09 2021       \r\n",
      "+-----------------------------------------------------------------------------+\r\n",
      "| NVIDIA-SMI 470.57.02    Driver Version: 470.57.02    CUDA Version: 11.4     |\r\n",
      "|-------------------------------+----------------------+----------------------+\r\n",
      "| GPU  Name        Persistence-M| Bus-Id        Disp.A | Volatile Uncorr. ECC |\r\n",
      "| Fan  Temp  Perf  Pwr:Usage/Cap|         Memory-Usage | GPU-Util  Compute M. |\r\n",
      "|                               |                      |               MIG M. |\r\n",
      "|===============================+======================+======================|\r\n",
      "|   0  NVIDIA GeForce ...  On   | 00000000:01:00.0 Off |                  N/A |\r\n",
      "| N/A   72C    P0    79W /  N/A |   4933MiB /  7973MiB |    100%      Default |\r\n",
      "|                               |                      |                  N/A |\r\n",
      "+-------------------------------+----------------------+----------------------+\r\n",
      "                                                                               \r\n",
      "+-----------------------------------------------------------------------------+\r\n",
      "| Processes:                                                                  |\r\n",
      "|  GPU   GI   CI        PID   Type   Process name                  GPU Memory |\r\n",
      "|        ID   ID                                                   Usage      |\r\n",
      "|=============================================================================|\r\n",
      "|    0   N/A  N/A      1148      G   /usr/lib/xorg/Xorg                 56MiB |\r\n",
      "|    0   N/A  N/A      1382      G   /usr/bin/gnome-shell                8MiB |\r\n",
      "|    0   N/A  N/A      8767      C   /usr/bin/python3                   91MiB |\r\n",
      "|    0   N/A  N/A     18657      C   systemd                          4773MiB |\r\n",
      "+-----------------------------------------------------------------------------+\r\n"
     ]
    }
   ],
   "source": [
    "!nvidia-smi"
   ]
  },
  {
   "cell_type": "code",
   "execution_count": 21,
   "id": "af4a5510",
   "metadata": {},
   "outputs": [],
   "source": [
    "N, M = 75, 75  # размер входного изображения\n"
   ]
  },
  {
   "cell_type": "code",
   "execution_count": 54,
   "id": "6038ee50",
   "metadata": {},
   "outputs": [
    {
     "name": "stdout",
     "output_type": "stream",
     "text": [
      "Found 655 files belonging to 4 classes.\n"
     ]
    }
   ],
   "source": [
    "keras_ds = tf.keras.preprocessing.image_dataset_from_directory(\n",
    "    directory=PATH_TO_DATASET,\n",
    "    labels='inferred', \n",
    "    label_mode='int',\n",
    "    class_names=LABELS, \n",
    "    batch_size=32, \n",
    "    image_size=(N, M)\n",
    ")\n",
    "keras_ds = keras_ds.prefetch(buffer_size=tf.data.experimental.AUTOTUNE)"
   ]
  },
  {
   "cell_type": "code",
   "execution_count": 71,
   "id": "00c800d8",
   "metadata": {},
   "outputs": [
    {
     "data": {
      "text/plain": [
       "array([1, 2, 2, 4])"
      ]
     },
     "execution_count": 71,
     "metadata": {},
     "output_type": "execute_result"
    }
   ],
   "source": [
    "np.append(np.array([1,2]), np.array([2,4]))"
   ]
  },
  {
   "cell_type": "code",
   "execution_count": 76,
   "id": "a852800b",
   "metadata": {},
   "outputs": [],
   "source": [
    "preds = np.ndarray([], dtype=int)\n",
    "y = np.ndarray([], dtype=int)\n",
    "\n",
    "for batch in keras_ds:\n",
    "    batch_X, batch_y = batch\n",
    "    batch_X = preprocess_input(batch_X)\n",
    "    batch_y = np.array(batch_y)\n",
    "    y = np.append(y, batch_y)\n",
    "    predictions = np.array(vanilla_model.predict_on_batch(batch_X))\n",
    "    preds = np.append(preds, np.argmax(predictions, axis=1).astype(int))\n"
   ]
  },
  {
   "cell_type": "code",
   "execution_count": 81,
   "id": "7e448649",
   "metadata": {},
   "outputs": [
    {
     "name": "stderr",
     "output_type": "stream",
     "text": [
      "/home/odyssey/.local/lib/python3.8/site-packages/sklearn/metrics/_classification.py:1248: UndefinedMetricWarning: Precision and F-score are ill-defined and being set to 0.0 in labels with no predicted samples. Use `zero_division` parameter to control this behavior.\n",
      "  _warn_prf(average, modifier, msg_start, len(result))\n",
      "/home/odyssey/.local/lib/python3.8/site-packages/sklearn/metrics/_classification.py:1248: UndefinedMetricWarning: Precision and F-score are ill-defined and being set to 0.0 in labels with no predicted samples. Use `zero_division` parameter to control this behavior.\n",
      "  _warn_prf(average, modifier, msg_start, len(result))\n",
      "/home/odyssey/.local/lib/python3.8/site-packages/sklearn/metrics/_classification.py:1248: UndefinedMetricWarning: Precision and F-score are ill-defined and being set to 0.0 in labels with no predicted samples. Use `zero_division` parameter to control this behavior.\n",
      "  _warn_prf(average, modifier, msg_start, len(result))\n"
     ]
    },
    {
     "data": {
      "text/plain": [
       "{'0': {'precision': 0.5138339920948617,\n",
       "  'recall': 0.8074534161490683,\n",
       "  'f1-score': 0.6280193236714975,\n",
       "  'support': 161},\n",
       " '1': {'precision': 0.9134615384615384,\n",
       "  'recall': 0.5337078651685393,\n",
       "  'f1-score': 0.6737588652482269,\n",
       "  'support': 178},\n",
       " '2': {'precision': 0.8528428093645485,\n",
       "  'recall': 0.8793103448275862,\n",
       "  'f1-score': 0.865874363327674,\n",
       "  'support': 290},\n",
       " '3': {'precision': 0.0, 'recall': 0.0, 'f1-score': 0.0, 'support': 27},\n",
       " 'accuracy': 0.7317073170731707,\n",
       " 'macro avg': {'precision': 0.5700345849802372,\n",
       "  'recall': 0.5551179065362984,\n",
       "  'f1-score': 0.5419131380618496,\n",
       "  'support': 656},\n",
       " 'weighted avg': {'precision': 0.7509875629407707,\n",
       "  'recall': 0.7317073170731707,\n",
       "  'f1-score': 0.7197313330645136,\n",
       "  'support': 656}}"
      ]
     },
     "execution_count": 81,
     "metadata": {},
     "output_type": "execute_result"
    }
   ],
   "source": [
    "from sklearn.metrics import classification_report\n",
    "classification_report(y_true=y, y_pred=preds, output_dict=True)"
   ]
  },
  {
   "cell_type": "code",
   "execution_count": 79,
   "id": "6d1ba3df",
   "metadata": {},
   "outputs": [
    {
     "data": {
      "text/plain": [
       "(656, 656)"
      ]
     },
     "execution_count": 79,
     "metadata": {},
     "output_type": "execute_result"
    }
   ],
   "source": [
    "len(preds), len(y)"
   ]
  },
  {
   "cell_type": "code",
   "execution_count": null,
   "id": "1f335a79",
   "metadata": {},
   "outputs": [],
   "source": []
  }
 ],
 "metadata": {
  "kernelspec": {
   "display_name": "Python 3 (ipykernel)",
   "language": "python",
   "name": "python3"
  },
  "language_info": {
   "codemirror_mode": {
    "name": "ipython",
    "version": 3
   },
   "file_extension": ".py",
   "mimetype": "text/x-python",
   "name": "python",
   "nbconvert_exporter": "python",
   "pygments_lexer": "ipython3",
   "version": "3.8.10"
  }
 },
 "nbformat": 4,
 "nbformat_minor": 5
}
